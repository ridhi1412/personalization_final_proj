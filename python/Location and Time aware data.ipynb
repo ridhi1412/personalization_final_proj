{
 "cells": [
  {
   "cell_type": "code",
   "execution_count": 1,
   "metadata": {},
   "outputs": [
    {
     "name": "stderr",
     "output_type": "stream",
     "text": [
      "/media/anirudh/Data/Code/anaconda3/envs/pers/lib/python3.7/site-packages/tqdm/std.py:648: FutureWarning: The Panel class is removed from pandas. Accessing it from the top-level namespace will also be removed in the next version\n",
      "  from pandas import Panel\n"
     ]
    }
   ],
   "source": [
    "import pandas as pd\n",
    "import numpy as np\n",
    "import warnings\n",
    "import matplotlib.pyplot as plt\n",
    "import gc\n",
    "import json\n",
    "from tqdm.auto import tqdm\n",
    "tqdm.pandas()\n",
    "\n",
    "warnings.simplefilter(\"ignore\")\n",
    "%matplotlib inline"
   ]
  },
  {
   "cell_type": "code",
   "execution_count": 2,
   "metadata": {},
   "outputs": [
    {
     "data": {
      "application/vnd.jupyter.widget-view+json": {
       "model_id": "cdedece4b5f24414aa444d5c7e24e366",
       "version_major": 2,
       "version_minor": 0
      },
      "text/plain": [
       "HBox(children=(IntProgress(value=0, max=6685900), HTML(value='')))"
      ]
     },
     "metadata": {},
     "output_type": "display_data"
    },
    {
     "name": "stdout",
     "output_type": "stream",
     "text": [
      "\n"
     ]
    }
   ],
   "source": [
    "# To get review json\n",
    "line_count = len(open(\"../data/review.json\").readlines())\n",
    "user_ids, business_ids, stars, dates = [], [], [], []\n",
    "with open(\"../data/review.json\") as f:\n",
    "    for line in tqdm(f, total=line_count):\n",
    "        blob = json.loads(line)\n",
    "        user_ids += [blob[\"user_id\"]]\n",
    "        business_ids += [blob[\"business_id\"]]\n",
    "        stars += [blob[\"stars\"]]\n",
    "        dates += [blob[\"date\"]]\n",
    "\n",
    "ratings = pd.DataFrame(\n",
    " {\"user_id\": user_ids, \"business_id\": business_ids, \"rating\": stars, \"date\": dates}\n",
    ")\n",
    "user_counts = ratings[\"user_id\"].value_counts()\n",
    "active_users = user_counts.loc[user_counts >= 5].index.tolist()"
   ]
  },
  {
   "cell_type": "code",
   "execution_count": 3,
   "metadata": {},
   "outputs": [
    {
     "data": {
      "application/vnd.jupyter.widget-view+json": {
       "model_id": "cf6bae0dc2de41a797f09a504d85cd19",
       "version_major": 2,
       "version_minor": 0
      },
      "text/plain": [
       "HBox(children=(IntProgress(value=0, max=192609), HTML(value='')))"
      ]
     },
     "metadata": {},
     "output_type": "display_data"
    },
    {
     "name": "stdout",
     "output_type": "stream",
     "text": [
      "\n"
     ]
    }
   ],
   "source": [
    "# To get business json\n",
    "\n",
    "line_count = len(open(\"../data/business.json\").readlines())\n",
    "name, business_id, address, city, state, postal_code = [], [], [], [], [], []\n",
    "latitude, longitude, stars, review_count = [], [], [], []\n",
    "is_open, attributes, GoodForKids, categories, hours = [], [], [], [], []\n",
    "\n",
    "with open(\"../data/business.json\") as f:\n",
    "    for line in tqdm(f, total=line_count):\n",
    "        blob = json.loads(line)\n",
    "        name += [blob[\"name\"]]\n",
    "        business_id += [blob[\"business_id\"]]\n",
    "        address += [blob[\"address\"]]\n",
    "        city += [blob[\"city\"]]\n",
    "        state += [blob[\"state\"]]\n",
    "        postal_code += [blob[\"postal_code\"]]\n",
    "        latitude += [blob[\"latitude\"]]\n",
    "        longitude += [blob[\"longitude\"]]\n",
    "        stars += [blob[\"stars\"]]\n",
    "        review_count += [blob[\"review_count\"]]\n",
    "        is_open += [blob[\"is_open\"]]\n",
    "        \n",
    "business = pd.DataFrame(\n",
    " {\"name\":name, \"business_id\":business_id, \"address\":address, \"city\":city, \"state\":state, \"postal_code\":postal_code, \n",
    "    \"latitude\":latitude, \"longitude\":longitude, 'stars': stars, 'review_count': review_count, 'is_open':is_open}\n",
    ")\n"
   ]
  },
  {
   "cell_type": "code",
   "execution_count": 4,
   "metadata": {},
   "outputs": [
    {
     "data": {
      "text/html": [
       "<div>\n",
       "<style scoped>\n",
       "    .dataframe tbody tr th:only-of-type {\n",
       "        vertical-align: middle;\n",
       "    }\n",
       "\n",
       "    .dataframe tbody tr th {\n",
       "        vertical-align: top;\n",
       "    }\n",
       "\n",
       "    .dataframe thead th {\n",
       "        text-align: right;\n",
       "    }\n",
       "</style>\n",
       "<table border=\"1\" class=\"dataframe\">\n",
       "  <thead>\n",
       "    <tr style=\"text-align: right;\">\n",
       "      <th></th>\n",
       "      <th>name</th>\n",
       "      <th>business_id</th>\n",
       "      <th>address</th>\n",
       "      <th>city</th>\n",
       "      <th>state</th>\n",
       "      <th>postal_code</th>\n",
       "      <th>latitude</th>\n",
       "      <th>longitude</th>\n",
       "      <th>stars</th>\n",
       "      <th>review_count</th>\n",
       "      <th>is_open</th>\n",
       "    </tr>\n",
       "  </thead>\n",
       "  <tbody>\n",
       "    <tr>\n",
       "      <td>0</td>\n",
       "      <td>Arizona Biltmore Golf Club</td>\n",
       "      <td>1SWheh84yJXfytovILXOAQ</td>\n",
       "      <td>2818 E Camino Acequia Drive</td>\n",
       "      <td>Phoenix</td>\n",
       "      <td>AZ</td>\n",
       "      <td>85016</td>\n",
       "      <td>33.522143</td>\n",
       "      <td>-112.018481</td>\n",
       "      <td>3.0</td>\n",
       "      <td>5</td>\n",
       "      <td>0</td>\n",
       "    </tr>\n",
       "    <tr>\n",
       "      <td>1</td>\n",
       "      <td>Emerald Chinese Restaurant</td>\n",
       "      <td>QXAEGFB4oINsVuTFxEYKFQ</td>\n",
       "      <td>30 Eglinton Avenue W</td>\n",
       "      <td>Mississauga</td>\n",
       "      <td>ON</td>\n",
       "      <td>L5R 3E7</td>\n",
       "      <td>43.605499</td>\n",
       "      <td>-79.652289</td>\n",
       "      <td>2.5</td>\n",
       "      <td>128</td>\n",
       "      <td>1</td>\n",
       "    </tr>\n",
       "  </tbody>\n",
       "</table>\n",
       "</div>"
      ],
      "text/plain": [
       "                         name             business_id  \\\n",
       "0  Arizona Biltmore Golf Club  1SWheh84yJXfytovILXOAQ   \n",
       "1  Emerald Chinese Restaurant  QXAEGFB4oINsVuTFxEYKFQ   \n",
       "\n",
       "                       address         city state postal_code   latitude  \\\n",
       "0  2818 E Camino Acequia Drive      Phoenix    AZ       85016  33.522143   \n",
       "1         30 Eglinton Avenue W  Mississauga    ON     L5R 3E7  43.605499   \n",
       "\n",
       "    longitude  stars  review_count  is_open  \n",
       "0 -112.018481    3.0             5        0  \n",
       "1  -79.652289    2.5           128        1  "
      ]
     },
     "execution_count": 4,
     "metadata": {},
     "output_type": "execute_result"
    }
   ],
   "source": [
    "business.head(2)"
   ]
  },
  {
   "cell_type": "code",
   "execution_count": 5,
   "metadata": {},
   "outputs": [
    {
     "data": {
      "text/html": [
       "<div>\n",
       "<style scoped>\n",
       "    .dataframe tbody tr th:only-of-type {\n",
       "        vertical-align: middle;\n",
       "    }\n",
       "\n",
       "    .dataframe tbody tr th {\n",
       "        vertical-align: top;\n",
       "    }\n",
       "\n",
       "    .dataframe thead th {\n",
       "        text-align: right;\n",
       "    }\n",
       "</style>\n",
       "<table border=\"1\" class=\"dataframe\">\n",
       "  <thead>\n",
       "    <tr style=\"text-align: right;\">\n",
       "      <th></th>\n",
       "      <th>user_id</th>\n",
       "      <th>business_id</th>\n",
       "      <th>rating</th>\n",
       "      <th>date</th>\n",
       "    </tr>\n",
       "  </thead>\n",
       "  <tbody>\n",
       "    <tr>\n",
       "      <td>0</td>\n",
       "      <td>hG7b0MtEbXx5QzbzE6C_VA</td>\n",
       "      <td>ujmEBvifdJM6h6RLv4wQIg</td>\n",
       "      <td>1.0</td>\n",
       "      <td>2013-05-07 04:34:36</td>\n",
       "    </tr>\n",
       "    <tr>\n",
       "      <td>1</td>\n",
       "      <td>yXQM5uF2jS6es16SJzNHfg</td>\n",
       "      <td>NZnhc2sEQy3RmzKTZnqtwQ</td>\n",
       "      <td>5.0</td>\n",
       "      <td>2017-01-14 21:30:33</td>\n",
       "    </tr>\n",
       "  </tbody>\n",
       "</table>\n",
       "</div>"
      ],
      "text/plain": [
       "                  user_id             business_id  rating                 date\n",
       "0  hG7b0MtEbXx5QzbzE6C_VA  ujmEBvifdJM6h6RLv4wQIg     1.0  2013-05-07 04:34:36\n",
       "1  yXQM5uF2jS6es16SJzNHfg  NZnhc2sEQy3RmzKTZnqtwQ     5.0  2017-01-14 21:30:33"
      ]
     },
     "execution_count": 5,
     "metadata": {},
     "output_type": "execute_result"
    }
   ],
   "source": [
    "ratings.head(2)"
   ]
  },
  {
   "cell_type": "code",
   "execution_count": 6,
   "metadata": {},
   "outputs": [],
   "source": [
    "detail_df = pd.merge(left=ratings,right=business,on='business_id', how='left')\n",
    "mean_lat = detail_df.groupby('user_id')['latitude'].mean().reset_index()\n",
    "mean_long = detail_df.groupby('user_id')['longitude'].mean().reset_index()\n",
    "mean_df = pd.merge(mean_lat,mean_long, on='user_id')\n",
    "mean_df.columns = ['user_id','mean_lat','mean_long']\n",
    "detail_df = pd.merge(detail_df, mean_df, on='user_id', how='left')\n",
    "\n",
    "detail_df['distance'] = ((detail_df['mean_lat'] - detail_df['latitude'])**2) + ((detail_df['mean_long'] - detail_df['longitude'])**2)"
   ]
  },
  {
   "cell_type": "code",
   "execution_count": 7,
   "metadata": {},
   "outputs": [],
   "source": [
    "# For date distances\n",
    "detail_df['date'] = pd.to_datetime(detail_df['date'])\n",
    "last_date = detail_df.groupby('user_id')['date'].max().reset_index()\n",
    "last_date.columns = ['user_id','last_date']\n",
    "detail_df = pd.merge(detail_df,last_date,on='user_id',how='left')\n",
    "\n",
    "# Months instead of days\n",
    "detail_df['date_diff'] = (detail_df['last_date'] - detail_df['date'])\n",
    "detail_df['date_diff'] = detail_df['date_diff'].dt.days/30"
   ]
  },
  {
   "cell_type": "code",
   "execution_count": 8,
   "metadata": {},
   "outputs": [],
   "source": [
    "# Applying opereations on the dist\n",
    "# e(1/1+dist)/e\n",
    "# e(1/ log(date))/e\n",
    "detail_df['dist_scale'] = np.exp(1/ (1 + detail_df['distance']))/(np.exp(1))\n",
    "detail_df['date_scale'] = np.exp(1/ (1 + np.log(detail_df['date_diff']+1)))/np.exp(1)\n",
    "\n",
    "# Multiplying rating scale with the dist \n",
    "detail_df['date_rating'] = detail_df['rating'] * detail_df['date_scale']\n",
    "detail_df['dist_rating'] = detail_df['rating'] * detail_df['dist_scale']\n",
    "detail_df['date_dist_rating'] = detail_df['date_scale'] * detail_df['dist_scale'] * detail_df['rating']"
   ]
  },
  {
   "cell_type": "code",
   "execution_count": 9,
   "metadata": {},
   "outputs": [
    {
     "data": {
      "text/html": [
       "<div>\n",
       "<style scoped>\n",
       "    .dataframe tbody tr th:only-of-type {\n",
       "        vertical-align: middle;\n",
       "    }\n",
       "\n",
       "    .dataframe tbody tr th {\n",
       "        vertical-align: top;\n",
       "    }\n",
       "\n",
       "    .dataframe thead th {\n",
       "        text-align: right;\n",
       "    }\n",
       "</style>\n",
       "<table border=\"1\" class=\"dataframe\">\n",
       "  <thead>\n",
       "    <tr style=\"text-align: right;\">\n",
       "      <th></th>\n",
       "      <th>user_id</th>\n",
       "      <th>business_id</th>\n",
       "      <th>rating</th>\n",
       "      <th>date</th>\n",
       "      <th>name</th>\n",
       "      <th>address</th>\n",
       "      <th>city</th>\n",
       "      <th>state</th>\n",
       "      <th>postal_code</th>\n",
       "      <th>latitude</th>\n",
       "      <th>...</th>\n",
       "      <th>mean_lat</th>\n",
       "      <th>mean_long</th>\n",
       "      <th>distance</th>\n",
       "      <th>last_date</th>\n",
       "      <th>date_diff</th>\n",
       "      <th>dist_scale</th>\n",
       "      <th>date_scale</th>\n",
       "      <th>date_rating</th>\n",
       "      <th>dist_rating</th>\n",
       "      <th>date_dist_rating</th>\n",
       "    </tr>\n",
       "  </thead>\n",
       "  <tbody>\n",
       "    <tr>\n",
       "      <td>0</td>\n",
       "      <td>hG7b0MtEbXx5QzbzE6C_VA</td>\n",
       "      <td>ujmEBvifdJM6h6RLv4wQIg</td>\n",
       "      <td>1.0</td>\n",
       "      <td>2013-05-07 04:34:36</td>\n",
       "      <td>MountainView Hospital</td>\n",
       "      <td>3100 N Tenaya Way</td>\n",
       "      <td>Las Vegas</td>\n",
       "      <td>NV</td>\n",
       "      <td>89128</td>\n",
       "      <td>36.215546</td>\n",
       "      <td>...</td>\n",
       "      <td>36.184735</td>\n",
       "      <td>-115.207442</td>\n",
       "      <td>0.002660</td>\n",
       "      <td>2016-08-11 03:38:43</td>\n",
       "      <td>39.7</td>\n",
       "      <td>0.997351</td>\n",
       "      <td>0.454974</td>\n",
       "      <td>0.454974</td>\n",
       "      <td>0.997351</td>\n",
       "      <td>0.453768</td>\n",
       "    </tr>\n",
       "    <tr>\n",
       "      <td>1</td>\n",
       "      <td>yXQM5uF2jS6es16SJzNHfg</td>\n",
       "      <td>NZnhc2sEQy3RmzKTZnqtwQ</td>\n",
       "      <td>5.0</td>\n",
       "      <td>2017-01-14 21:30:33</td>\n",
       "      <td>Kelly Cardenas Salon - Hard Rock Hotel &amp; Casino</td>\n",
       "      <td>4455 Paradise Rd</td>\n",
       "      <td>Las Vegas</td>\n",
       "      <td>NV</td>\n",
       "      <td>89169</td>\n",
       "      <td>36.110083</td>\n",
       "      <td>...</td>\n",
       "      <td>38.742975</td>\n",
       "      <td>-98.527392</td>\n",
       "      <td>283.371937</td>\n",
       "      <td>2017-01-14 21:30:33</td>\n",
       "      <td>0.0</td>\n",
       "      <td>0.369175</td>\n",
       "      <td>1.000000</td>\n",
       "      <td>5.000000</td>\n",
       "      <td>1.845877</td>\n",
       "      <td>1.845877</td>\n",
       "    </tr>\n",
       "  </tbody>\n",
       "</table>\n",
       "<p>2 rows × 24 columns</p>\n",
       "</div>"
      ],
      "text/plain": [
       "                  user_id             business_id  rating                date  \\\n",
       "0  hG7b0MtEbXx5QzbzE6C_VA  ujmEBvifdJM6h6RLv4wQIg     1.0 2013-05-07 04:34:36   \n",
       "1  yXQM5uF2jS6es16SJzNHfg  NZnhc2sEQy3RmzKTZnqtwQ     5.0 2017-01-14 21:30:33   \n",
       "\n",
       "                                              name            address  \\\n",
       "0                            MountainView Hospital  3100 N Tenaya Way   \n",
       "1  Kelly Cardenas Salon - Hard Rock Hotel & Casino   4455 Paradise Rd   \n",
       "\n",
       "        city state postal_code   latitude  ...   mean_lat   mean_long  \\\n",
       "0  Las Vegas    NV       89128  36.215546  ...  36.184735 -115.207442   \n",
       "1  Las Vegas    NV       89169  36.110083  ...  38.742975  -98.527392   \n",
       "\n",
       "     distance           last_date  date_diff  dist_scale  date_scale  \\\n",
       "0    0.002660 2016-08-11 03:38:43       39.7    0.997351    0.454974   \n",
       "1  283.371937 2017-01-14 21:30:33        0.0    0.369175    1.000000   \n",
       "\n",
       "  date_rating  dist_rating  date_dist_rating  \n",
       "0    0.454974     0.997351          0.453768  \n",
       "1    5.000000     1.845877          1.845877  \n",
       "\n",
       "[2 rows x 24 columns]"
      ]
     },
     "execution_count": 9,
     "metadata": {},
     "output_type": "execute_result"
    }
   ],
   "source": [
    "detail_df.head(2)"
   ]
  },
  {
   "cell_type": "code",
   "execution_count": 10,
   "metadata": {},
   "outputs": [
    {
     "data": {
      "image/png": "[encoded data removed]",
      "text/plain": [
       "<Figure size 432x288 with 1 Axes>"
      ]
     },
     "metadata": {
      "needs_background": "light"
     },
     "output_type": "display_data"
    }
   ],
   "source": [
    "# Plotting number of cities rated by unique users\n",
    "unique_user_city = detail_df.groupby('user_id')['city'].nunique().reset_index()\n",
    "plt.hist(unique_user_city['city'][unique_user_city['city']<5])\n",
    "plt.show()"
   ]
  },
  {
   "cell_type": "code",
   "execution_count": 11,
   "metadata": {},
   "outputs": [
    {
     "data": {
      "image/png": "[encoded data removed]",
      "text/plain": [
       "<Figure size 720x432 with 1 Axes>"
      ]
     },
     "metadata": {
      "needs_background": "light"
     },
     "output_type": "display_data"
    }
   ],
   "source": [
    "from shapely.geometry import Point\n",
    "import geopandas as gpd\n",
    "from geopandas import GeoDataFrame\n",
    "\n",
    "geometry = [Point(xy) for xy in zip(business['longitude'], business['latitude'])]\n",
    "gdf = GeoDataFrame(business, geometry=geometry)   \n",
    "\n",
    "# Plotting the location of businesses\n",
    "world = gpd.read_file(gpd.datasets.get_path('naturalearth_lowres'))\n",
    "world = world[world.continent=='North America']\n",
    "gdf.plot(ax=world.plot(figsize=(10, 6)), marker='o', color='red', markersize=15);"
   ]
  },
  {
   "cell_type": "code",
   "execution_count": 12,
   "metadata": {},
   "outputs": [
    {
     "data": {
      "text/html": [
       "<div>\n",
       "<style scoped>\n",
       "    .dataframe tbody tr th:only-of-type {\n",
       "        vertical-align: middle;\n",
       "    }\n",
       "\n",
       "    .dataframe tbody tr th {\n",
       "        vertical-align: top;\n",
       "    }\n",
       "\n",
       "    .dataframe thead th {\n",
       "        text-align: right;\n",
       "    }\n",
       "</style>\n",
       "<table border=\"1\" class=\"dataframe\">\n",
       "  <thead>\n",
       "    <tr style=\"text-align: right;\">\n",
       "      <th></th>\n",
       "      <th>user_id</th>\n",
       "      <th>business_id</th>\n",
       "      <th>rating</th>\n",
       "      <th>date</th>\n",
       "      <th>name</th>\n",
       "      <th>address</th>\n",
       "      <th>city</th>\n",
       "      <th>state</th>\n",
       "      <th>postal_code</th>\n",
       "      <th>latitude</th>\n",
       "      <th>...</th>\n",
       "      <th>mean_lat</th>\n",
       "      <th>mean_long</th>\n",
       "      <th>distance</th>\n",
       "      <th>last_date</th>\n",
       "      <th>date_diff</th>\n",
       "      <th>dist_scale</th>\n",
       "      <th>date_scale</th>\n",
       "      <th>date_rating</th>\n",
       "      <th>dist_rating</th>\n",
       "      <th>date_dist_rating</th>\n",
       "    </tr>\n",
       "  </thead>\n",
       "  <tbody>\n",
       "    <tr>\n",
       "      <td>0</td>\n",
       "      <td>hG7b0MtEbXx5QzbzE6C_VA</td>\n",
       "      <td>ujmEBvifdJM6h6RLv4wQIg</td>\n",
       "      <td>1.0</td>\n",
       "      <td>2013-05-07 04:34:36</td>\n",
       "      <td>MountainView Hospital</td>\n",
       "      <td>3100 N Tenaya Way</td>\n",
       "      <td>Las Vegas</td>\n",
       "      <td>NV</td>\n",
       "      <td>89128</td>\n",
       "      <td>36.215546</td>\n",
       "      <td>...</td>\n",
       "      <td>36.184735</td>\n",
       "      <td>-115.207442</td>\n",
       "      <td>0.002660</td>\n",
       "      <td>2016-08-11 03:38:43</td>\n",
       "      <td>39.7</td>\n",
       "      <td>0.997351</td>\n",
       "      <td>0.454974</td>\n",
       "      <td>0.454974</td>\n",
       "      <td>0.997351</td>\n",
       "      <td>0.453768</td>\n",
       "    </tr>\n",
       "    <tr>\n",
       "      <td>1</td>\n",
       "      <td>yXQM5uF2jS6es16SJzNHfg</td>\n",
       "      <td>NZnhc2sEQy3RmzKTZnqtwQ</td>\n",
       "      <td>5.0</td>\n",
       "      <td>2017-01-14 21:30:33</td>\n",
       "      <td>Kelly Cardenas Salon - Hard Rock Hotel &amp; Casino</td>\n",
       "      <td>4455 Paradise Rd</td>\n",
       "      <td>Las Vegas</td>\n",
       "      <td>NV</td>\n",
       "      <td>89169</td>\n",
       "      <td>36.110083</td>\n",
       "      <td>...</td>\n",
       "      <td>38.742975</td>\n",
       "      <td>-98.527392</td>\n",
       "      <td>283.371937</td>\n",
       "      <td>2017-01-14 21:30:33</td>\n",
       "      <td>0.0</td>\n",
       "      <td>0.369175</td>\n",
       "      <td>1.000000</td>\n",
       "      <td>5.000000</td>\n",
       "      <td>1.845877</td>\n",
       "      <td>1.845877</td>\n",
       "    </tr>\n",
       "  </tbody>\n",
       "</table>\n",
       "<p>2 rows × 24 columns</p>\n",
       "</div>"
      ],
      "text/plain": [
       "                  user_id             business_id  rating                date  \\\n",
       "0  hG7b0MtEbXx5QzbzE6C_VA  ujmEBvifdJM6h6RLv4wQIg     1.0 2013-05-07 04:34:36   \n",
       "1  yXQM5uF2jS6es16SJzNHfg  NZnhc2sEQy3RmzKTZnqtwQ     5.0 2017-01-14 21:30:33   \n",
       "\n",
       "                                              name            address  \\\n",
       "0                            MountainView Hospital  3100 N Tenaya Way   \n",
       "1  Kelly Cardenas Salon - Hard Rock Hotel & Casino   4455 Paradise Rd   \n",
       "\n",
       "        city state postal_code   latitude  ...   mean_lat   mean_long  \\\n",
       "0  Las Vegas    NV       89128  36.215546  ...  36.184735 -115.207442   \n",
       "1  Las Vegas    NV       89169  36.110083  ...  38.742975  -98.527392   \n",
       "\n",
       "     distance           last_date  date_diff  dist_scale  date_scale  \\\n",
       "0    0.002660 2016-08-11 03:38:43       39.7    0.997351    0.454974   \n",
       "1  283.371937 2017-01-14 21:30:33        0.0    0.369175    1.000000   \n",
       "\n",
       "  date_rating  dist_rating  date_dist_rating  \n",
       "0    0.454974     0.997351          0.453768  \n",
       "1    5.000000     1.845877          1.845877  \n",
       "\n",
       "[2 rows x 24 columns]"
      ]
     },
     "execution_count": 12,
     "metadata": {},
     "output_type": "execute_result"
    }
   ],
   "source": [
    "detail_df.head(2)"
   ]
  },
  {
   "cell_type": "code",
   "execution_count": 13,
   "metadata": {},
   "outputs": [
    {
     "data": {
      "text/html": [
       "<div>\n",
       "<style scoped>\n",
       "    .dataframe tbody tr th:only-of-type {\n",
       "        vertical-align: middle;\n",
       "    }\n",
       "\n",
       "    .dataframe tbody tr th {\n",
       "        vertical-align: top;\n",
       "    }\n",
       "\n",
       "    .dataframe thead th {\n",
       "        text-align: right;\n",
       "    }\n",
       "</style>\n",
       "<table border=\"1\" class=\"dataframe\">\n",
       "  <thead>\n",
       "    <tr style=\"text-align: right;\">\n",
       "      <th></th>\n",
       "      <th>user_id</th>\n",
       "      <th>business_id</th>\n",
       "      <th>rating</th>\n",
       "      <th>date_rating</th>\n",
       "      <th>dist_rating</th>\n",
       "      <th>date_dist_rating</th>\n",
       "    </tr>\n",
       "  </thead>\n",
       "  <tbody>\n",
       "    <tr>\n",
       "      <td>0</td>\n",
       "      <td>hG7b0MtEbXx5QzbzE6C_VA</td>\n",
       "      <td>ujmEBvifdJM6h6RLv4wQIg</td>\n",
       "      <td>1.0</td>\n",
       "      <td>0.454974</td>\n",
       "      <td>0.997351</td>\n",
       "      <td>0.453768</td>\n",
       "    </tr>\n",
       "    <tr>\n",
       "      <td>1</td>\n",
       "      <td>yXQM5uF2jS6es16SJzNHfg</td>\n",
       "      <td>NZnhc2sEQy3RmzKTZnqtwQ</td>\n",
       "      <td>5.0</td>\n",
       "      <td>5.000000</td>\n",
       "      <td>1.845877</td>\n",
       "      <td>1.845877</td>\n",
       "    </tr>\n",
       "    <tr>\n",
       "      <td>2</td>\n",
       "      <td>n6-Gk65cPZL6Uz8qRm3NYw</td>\n",
       "      <td>WTqjgwHlXbSFevF32_DJVw</td>\n",
       "      <td>5.0</td>\n",
       "      <td>2.340022</td>\n",
       "      <td>4.986967</td>\n",
       "      <td>2.333923</td>\n",
       "    </tr>\n",
       "    <tr>\n",
       "      <td>3</td>\n",
       "      <td>dacAIZ6fTM6mqwW5uxkskg</td>\n",
       "      <td>ikCg8xy5JIg_NGPx-MSIDA</td>\n",
       "      <td>5.0</td>\n",
       "      <td>5.000000</td>\n",
       "      <td>4.989108</td>\n",
       "      <td>4.989108</td>\n",
       "    </tr>\n",
       "    <tr>\n",
       "      <td>4</td>\n",
       "      <td>ssoyf2_x0EQMed6fgHeMyQ</td>\n",
       "      <td>b1b1eb3uo-w561D0ZfCEiQ</td>\n",
       "      <td>1.0</td>\n",
       "      <td>0.501546</td>\n",
       "      <td>0.993283</td>\n",
       "      <td>0.498177</td>\n",
       "    </tr>\n",
       "  </tbody>\n",
       "</table>\n",
       "</div>"
      ],
      "text/plain": [
       "                  user_id             business_id  rating  date_rating  \\\n",
       "0  hG7b0MtEbXx5QzbzE6C_VA  ujmEBvifdJM6h6RLv4wQIg     1.0     0.454974   \n",
       "1  yXQM5uF2jS6es16SJzNHfg  NZnhc2sEQy3RmzKTZnqtwQ     5.0     5.000000   \n",
       "2  n6-Gk65cPZL6Uz8qRm3NYw  WTqjgwHlXbSFevF32_DJVw     5.0     2.340022   \n",
       "3  dacAIZ6fTM6mqwW5uxkskg  ikCg8xy5JIg_NGPx-MSIDA     5.0     5.000000   \n",
       "4  ssoyf2_x0EQMed6fgHeMyQ  b1b1eb3uo-w561D0ZfCEiQ     1.0     0.501546   \n",
       "\n",
       "   dist_rating  date_dist_rating  \n",
       "0     0.997351          0.453768  \n",
       "1     1.845877          1.845877  \n",
       "2     4.986967          2.333923  \n",
       "3     4.989108          4.989108  \n",
       "4     0.993283          0.498177  "
      ]
     },
     "execution_count": 13,
     "metadata": {},
     "output_type": "execute_result"
    }
   ],
   "source": [
    "cols = ['user_id','business_id', 'rating', 'date_rating', 'dist_rating', 'date_dist_rating']\n",
    "detail_df[cols].head()"
   ]
  },
  {
   "cell_type": "code",
   "execution_count": 14,
   "metadata": {},
   "outputs": [],
   "source": [
    "detail_df[cols].to_csv('../data/time_location_aware.csv',index=False)"
   ]
  }
 ],
 "metadata": {
  "kernelspec": {
   "display_name": "Python 2",
   "language": "python",
   "name": "python2"
  },
  "language_info": {
   "codemirror_mode": {
    "name": "ipython",
    "version": 2
   },
   "file_extension": ".py",
   "mimetype": "text/x-python",
   "name": "python",
   "nbconvert_exporter": "python",
   "pygments_lexer": "ipython2",
   "version": "2.7.16"
  }
 },
 "nbformat": 4,
 "nbformat_minor": 2
}
