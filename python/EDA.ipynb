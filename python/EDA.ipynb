{
 "cells": [
  {
   "cell_type": "code",
   "execution_count": 1,
   "metadata": {},
   "outputs": [],
   "source": [
    "import pandas as pd\n",
    "import numpy as np\n",
    "import warnings\n",
    "import json\n",
    "from tqdm.auto import tqdm\n",
    "import gc\n",
    "gc.collect()\n",
    "\n",
    "warnings.simplefilter('ignore')"
   ]
  },
  {
   "cell_type": "code",
   "execution_count": 2,
   "metadata": {},
   "outputs": [
    {
     "data": {
      "application/vnd.jupyter.widget-view+json": {
       "model_id": "fc2cfad432ab4f12a9fcc70eb253c7e1",
       "version_major": 2,
       "version_minor": 0
      },
      "text/plain": [
       "HBox(children=(FloatProgress(value=0.0, max=6685900.0), HTML(value=u'')))"
      ]
     },
     "metadata": {},
     "output_type": "display_data"
    },
    {
     "name": "stdout",
     "output_type": "stream",
     "text": [
      "\n"
     ]
    }
   ],
   "source": [
    "# Loading user json\n",
    "line_count = len(open(\"../data/review.json\").readlines())\n",
    "user_ids, business_ids, stars, dates = [], [], [], []\n",
    "with open(\"../data/review.json\") as f:\n",
    "    for line in tqdm(f, total=line_count):\n",
    "        blob = json.loads(line)\n",
    "        user_ids += [blob[\"user_id\"]]\n",
    "        business_ids += [blob[\"business_id\"]]\n",
    "        stars += [blob[\"stars\"]]\n",
    "        dates += [blob[\"date\"]]\n",
    "\n",
    "gc.collect()\n",
    "ratings = pd.DataFrame(\n",
    " {\"user_id\": user_ids, \"business_id\": business_ids, \"rating\": stars, \"date\": dates}\n",
    ")"
   ]
  },
  {
   "cell_type": "code",
   "execution_count": 3,
   "metadata": {},
   "outputs": [
    {
     "data": {
      "application/vnd.jupyter.widget-view+json": {
       "model_id": "2c3cdbe149d84a21a5712340c5f50c31",
       "version_major": 2,
       "version_minor": 0
      },
      "text/plain": [
       "HBox(children=(FloatProgress(value=0.0, max=192609.0), HTML(value=u'')))"
      ]
     },
     "metadata": {},
     "output_type": "display_data"
    },
    {
     "name": "stdout",
     "output_type": "stream",
     "text": [
      "\n"
     ]
    }
   ],
   "source": [
    "# To get business json\n",
    "\n",
    "line_count = len(open(\"../data/business.json\").readlines())\n",
    "name, business_id, address, city, state, postal_code = [], [], [], [], [], []\n",
    "latitude, longitude, stars, review_count = [], [], [], []\n",
    "is_open, attributes, GoodForKids, categories, hours = [], [], [], [], []\n",
    "\n",
    "with open(\"../data/business.json\") as f:\n",
    "    for line in tqdm(f, total=line_count):\n",
    "        blob = json.loads(line)\n",
    "        name += [blob[\"name\"]]\n",
    "        business_id += [blob[\"business_id\"]]\n",
    "        address += [blob[\"address\"]]\n",
    "        city += [blob[\"city\"]]\n",
    "        state += [blob[\"state\"]]\n",
    "        postal_code += [blob[\"postal_code\"]]\n",
    "        latitude += [blob[\"latitude\"]]\n",
    "        longitude += [blob[\"longitude\"]]\n",
    "        stars += [blob[\"stars\"]]\n",
    "        review_count += [blob[\"review_count\"]]\n",
    "        is_open += [blob[\"is_open\"]]\n",
    "\n",
    "gc.collect()\n",
    "business = pd.DataFrame(\n",
    " {\"name\":name, \"business_id\":business_id, \"address\":address, \"city\":city, \"state\":state, \"postal_code\":postal_code, \n",
    "    \"latitude\":latitude, \"longitude\":longitude, 'stars': stars, 'review_count': review_count, 'is_open':is_open}\n",
    ")\n"
   ]
  },
  {
   "cell_type": "code",
   "execution_count": 4,
   "metadata": {},
   "outputs": [
    {
     "data": {
      "application/vnd.jupyter.widget-view+json": {
       "model_id": "f4227b934c2c41e5bc44dd05693b8e23",
       "version_major": 2,
       "version_minor": 0
      },
      "text/plain": [
       "HBox(children=(FloatProgress(value=0.0, max=1637138.0), HTML(value=u'')))"
      ]
     },
     "metadata": {},
     "output_type": "display_data"
    },
    {
     "name": "stdout",
     "output_type": "stream",
     "text": [
      "\n"
     ]
    },
    {
     "data": {
      "text/html": [
       "<div>\n",
       "<style scoped>\n",
       "    .dataframe tbody tr th:only-of-type {\n",
       "        vertical-align: middle;\n",
       "    }\n",
       "\n",
       "    .dataframe tbody tr th {\n",
       "        vertical-align: top;\n",
       "    }\n",
       "\n",
       "    .dataframe thead th {\n",
       "        text-align: right;\n",
       "    }\n",
       "</style>\n",
       "<table border=\"1\" class=\"dataframe\">\n",
       "  <thead>\n",
       "    <tr style=\"text-align: right;\">\n",
       "      <th></th>\n",
       "      <th>average_stars</th>\n",
       "      <th>compliment_cool</th>\n",
       "      <th>compliment_cute</th>\n",
       "      <th>compliment_funny</th>\n",
       "      <th>compliment_hot</th>\n",
       "      <th>compliment_list</th>\n",
       "      <th>compliment_more</th>\n",
       "      <th>compliment_note</th>\n",
       "      <th>compliment_photos</th>\n",
       "      <th>compliment_plain</th>\n",
       "      <th>...</th>\n",
       "      <th>compliment_writer</th>\n",
       "      <th>cool</th>\n",
       "      <th>elite</th>\n",
       "      <th>fans</th>\n",
       "      <th>funny</th>\n",
       "      <th>name</th>\n",
       "      <th>review_count</th>\n",
       "      <th>useful</th>\n",
       "      <th>user_id</th>\n",
       "      <th>yelping_since</th>\n",
       "    </tr>\n",
       "  </thead>\n",
       "  <tbody>\n",
       "    <tr>\n",
       "      <th>0</th>\n",
       "      <td>4.03</td>\n",
       "      <td>1</td>\n",
       "      <td>0</td>\n",
       "      <td>1</td>\n",
       "      <td>2</td>\n",
       "      <td>0</td>\n",
       "      <td>0</td>\n",
       "      <td>1</td>\n",
       "      <td>0</td>\n",
       "      <td>1</td>\n",
       "      <td>...</td>\n",
       "      <td>2</td>\n",
       "      <td>25</td>\n",
       "      <td>2015,2016,2017</td>\n",
       "      <td>5</td>\n",
       "      <td>17</td>\n",
       "      <td>Rashmi</td>\n",
       "      <td>95</td>\n",
       "      <td>84</td>\n",
       "      <td>l6BmjZMeQD3rDxWUbiAiow</td>\n",
       "      <td>2013-10-08 23:11:33</td>\n",
       "    </tr>\n",
       "    <tr>\n",
       "      <th>1</th>\n",
       "      <td>3.63</td>\n",
       "      <td>1</td>\n",
       "      <td>0</td>\n",
       "      <td>1</td>\n",
       "      <td>1</td>\n",
       "      <td>0</td>\n",
       "      <td>0</td>\n",
       "      <td>0</td>\n",
       "      <td>0</td>\n",
       "      <td>0</td>\n",
       "      <td>...</td>\n",
       "      <td>0</td>\n",
       "      <td>16</td>\n",
       "      <td></td>\n",
       "      <td>4</td>\n",
       "      <td>22</td>\n",
       "      <td>Jenna</td>\n",
       "      <td>33</td>\n",
       "      <td>48</td>\n",
       "      <td>4XChL029mKr5hydo79Ljxg</td>\n",
       "      <td>2013-02-21 22:29:06</td>\n",
       "    </tr>\n",
       "  </tbody>\n",
       "</table>\n",
       "<p>2 rows × 21 columns</p>\n",
       "</div>"
      ],
      "text/plain": [
       "   average_stars  compliment_cool  compliment_cute  compliment_funny  \\\n",
       "0           4.03                1                0                 1   \n",
       "1           3.63                1                0                 1   \n",
       "\n",
       "   compliment_hot  compliment_list  compliment_more  compliment_note  \\\n",
       "0               2                0                0                1   \n",
       "1               1                0                0                0   \n",
       "\n",
       "   compliment_photos  compliment_plain         ...           \\\n",
       "0                  0                 1         ...            \n",
       "1                  0                 0         ...            \n",
       "\n",
       "   compliment_writer  cool           elite fans  funny    name review_count  \\\n",
       "0                  2    25  2015,2016,2017    5     17  Rashmi           95   \n",
       "1                  0    16                    4     22   Jenna           33   \n",
       "\n",
       "   useful                 user_id        yelping_since  \n",
       "0      84  l6BmjZMeQD3rDxWUbiAiow  2013-10-08 23:11:33  \n",
       "1      48  4XChL029mKr5hydo79Ljxg  2013-02-21 22:29:06  \n",
       "\n",
       "[2 rows x 21 columns]"
      ]
     },
     "execution_count": 4,
     "metadata": {},
     "output_type": "execute_result"
    }
   ],
   "source": [
    "# To get user json\n",
    "\n",
    "line_count = len(open(\"../data/user.json\").readlines())\n",
    "name, user_id, review_count, yelping_since, useful = [], [], [], [], []\n",
    "funny, cool, elite, fans = [], [], [], []\n",
    "average_stars, compliment_hot, compliment_more, compliment_profile = [], [], [], []\n",
    "compliment_cute, compliment_list, compliment_note, compliment_plain, compliment_cool = [], [], [], [], [] \n",
    "compliment_funny, compliment_writer, compliment_photos = [], [], []\n",
    "\n",
    "with open(\"../data/user.json\") as f:\n",
    "    for line in tqdm(f, total=line_count):\n",
    "        blob = json.loads(line)\n",
    "        name += [blob[\"name\"]]\n",
    "        user_id += [blob[\"user_id\"]]\n",
    "        review_count += [blob[\"review_count\"]]\n",
    "        yelping_since += [blob[\"yelping_since\"]]\n",
    "        useful += [blob[\"useful\"]]\n",
    "        funny += [blob[\"funny\"]]\n",
    "        cool += [blob[\"cool\"]]\n",
    "        elite += [blob[\"elite\"]]\n",
    "        fans += [blob[\"fans\"]]\n",
    "        average_stars += [blob[\"average_stars\"]]\n",
    "        compliment_hot += [blob[\"compliment_hot\"]]\n",
    "        compliment_more += [blob[\"compliment_more\"]]\n",
    "        compliment_profile += [blob[\"compliment_profile\"]]\n",
    "        compliment_cute += [blob[\"compliment_cute\"]]\n",
    "        compliment_list += [blob[\"compliment_list\"]]\n",
    "        compliment_note += [blob[\"compliment_note\"]]\n",
    "        compliment_plain += [blob[\"compliment_plain\"]]\n",
    "        compliment_cool += [blob[\"compliment_cool\"]]\n",
    "        compliment_funny += [blob[\"compliment_funny\"]]\n",
    "        compliment_writer += [blob[\"compliment_writer\"]]\n",
    "        compliment_photos += [blob[\"compliment_photos\"]]\n",
    "        \n",
    "        \n",
    "        \n",
    "gc.collect()        \n",
    "user = pd.DataFrame(\n",
    " {\n",
    "    \"name\":name, \"user_id\":user_id, \"review_count\":review_count,\n",
    "     \"yelping_since\":yelping_since, \"useful\":useful, \"funny\":funny, \"cool\":cool, \"elite\":elite,\n",
    "     \"fans\":fans, \"average_stars\":average_stars, \"compliment_hot\":compliment_hot, \n",
    "     \"compliment_more\":compliment_more, \"compliment_profile\":compliment_profile,\n",
    "    \"compliment_cute\":compliment_cute, \"compliment_list\":compliment_list, \n",
    "     \"compliment_note\":compliment_note, \"compliment_plain\":compliment_plain, \"compliment_cool\":compliment_cool, \n",
    "    \"compliment_funny\":compliment_funny, \"compliment_writer\":compliment_writer, \"compliment_photos\":compliment_photos\n",
    " }\n",
    ")\n",
    "\n",
    "user.head(2)"
   ]
  },
  {
   "cell_type": "code",
   "execution_count": 5,
   "metadata": {},
   "outputs": [
    {
     "data": {
      "application/vnd.jupyter.widget-view+json": {
       "model_id": "3acd8918f54b44c4bfeb30adc08f9961",
       "version_major": 2,
       "version_minor": 0
      },
      "text/plain": [
       "HBox(children=(FloatProgress(value=0.0, max=1223094.0), HTML(value=u'')))"
      ]
     },
     "metadata": {},
     "output_type": "display_data"
    },
    {
     "name": "stdout",
     "output_type": "stream",
     "text": [
      "\n"
     ]
    },
    {
     "data": {
      "text/html": [
       "<div>\n",
       "<style scoped>\n",
       "    .dataframe tbody tr th:only-of-type {\n",
       "        vertical-align: middle;\n",
       "    }\n",
       "\n",
       "    .dataframe tbody tr th {\n",
       "        vertical-align: top;\n",
       "    }\n",
       "\n",
       "    .dataframe thead th {\n",
       "        text-align: right;\n",
       "    }\n",
       "</style>\n",
       "<table border=\"1\" class=\"dataframe\">\n",
       "  <thead>\n",
       "    <tr style=\"text-align: right;\">\n",
       "      <th></th>\n",
       "      <th>business_id</th>\n",
       "      <th>compliment_count</th>\n",
       "      <th>date</th>\n",
       "      <th>text</th>\n",
       "      <th>user_id</th>\n",
       "    </tr>\n",
       "  </thead>\n",
       "  <tbody>\n",
       "    <tr>\n",
       "      <th>0</th>\n",
       "      <td>VaKXUpmWTTWDKbpJ3aQdMw</td>\n",
       "      <td>0</td>\n",
       "      <td>2014-03-27 03:51:24</td>\n",
       "      <td>Great for watching games, ufc, and whatever el...</td>\n",
       "      <td>UPw5DWs_b-e2JRBS-t37Ag</td>\n",
       "    </tr>\n",
       "    <tr>\n",
       "      <th>1</th>\n",
       "      <td>OPiPeoJiv92rENwbq76orA</td>\n",
       "      <td>0</td>\n",
       "      <td>2013-05-25 06:00:56</td>\n",
       "      <td>Happy Hour 2-4 daily with 1/2 price drinks and...</td>\n",
       "      <td>Ocha4kZBHb4JK0lOWvE0sg</td>\n",
       "    </tr>\n",
       "  </tbody>\n",
       "</table>\n",
       "</div>"
      ],
      "text/plain": [
       "              business_id  compliment_count                 date  \\\n",
       "0  VaKXUpmWTTWDKbpJ3aQdMw                 0  2014-03-27 03:51:24   \n",
       "1  OPiPeoJiv92rENwbq76orA                 0  2013-05-25 06:00:56   \n",
       "\n",
       "                                                text                 user_id  \n",
       "0  Great for watching games, ufc, and whatever el...  UPw5DWs_b-e2JRBS-t37Ag  \n",
       "1  Happy Hour 2-4 daily with 1/2 price drinks and...  Ocha4kZBHb4JK0lOWvE0sg  "
      ]
     },
     "execution_count": 5,
     "metadata": {},
     "output_type": "execute_result"
    }
   ],
   "source": [
    "# To get tip json\n",
    "\n",
    "line_count = len(open(\"../data/tip.json\").readlines())\n",
    "business_id, user_id, text, date, compliment_count = [], [], [], [], []\n",
    "\n",
    "with open(\"../data/tip.json\") as f:\n",
    "    for line in tqdm(f, total=line_count):\n",
    "        blob = json.loads(line)\n",
    "        business_id += [blob[\"business_id\"]]\n",
    "        user_id += [blob[\"user_id\"]]\n",
    "        text += [blob[\"text\"]]\n",
    "        date += [blob[\"date\"]]\n",
    "        compliment_count += [blob[\"compliment_count\"]]\n",
    "\n",
    "gc.collect()\n",
    "tip = pd.DataFrame(\n",
    " {\n",
    "    \"business_id\":business_id, \"user_id\":user_id, \"text\":text,\n",
    "     \"date\":date, \"compliment_count\":compliment_count\n",
    " }\n",
    ")\n",
    "\n",
    "tip.head(2)"
   ]
  },
  {
   "cell_type": "code",
   "execution_count": 6,
   "metadata": {},
   "outputs": [],
   "source": [
    "# Hackerman ;p\n",
    "#print(user[user['name']=='Ridhi'])"
   ]
  },
  {
   "cell_type": "code",
   "execution_count": 7,
   "metadata": {},
   "outputs": [
    {
     "data": {
      "text/html": [
       "<div>\n",
       "<style scoped>\n",
       "    .dataframe tbody tr th:only-of-type {\n",
       "        vertical-align: middle;\n",
       "    }\n",
       "\n",
       "    .dataframe tbody tr th {\n",
       "        vertical-align: top;\n",
       "    }\n",
       "\n",
       "    .dataframe thead th {\n",
       "        text-align: right;\n",
       "    }\n",
       "</style>\n",
       "<table border=\"1\" class=\"dataframe\">\n",
       "  <thead>\n",
       "    <tr style=\"text-align: right;\">\n",
       "      <th></th>\n",
       "      <th>business_id</th>\n",
       "      <th>date</th>\n",
       "      <th>rating</th>\n",
       "      <th>user_id</th>\n",
       "    </tr>\n",
       "  </thead>\n",
       "  <tbody>\n",
       "    <tr>\n",
       "      <th>0</th>\n",
       "      <td>ujmEBvifdJM6h6RLv4wQIg</td>\n",
       "      <td>2013-05-07 04:34:36</td>\n",
       "      <td>1.0</td>\n",
       "      <td>hG7b0MtEbXx5QzbzE6C_VA</td>\n",
       "    </tr>\n",
       "    <tr>\n",
       "      <th>1</th>\n",
       "      <td>NZnhc2sEQy3RmzKTZnqtwQ</td>\n",
       "      <td>2017-01-14 21:30:33</td>\n",
       "      <td>5.0</td>\n",
       "      <td>yXQM5uF2jS6es16SJzNHfg</td>\n",
       "    </tr>\n",
       "  </tbody>\n",
       "</table>\n",
       "</div>"
      ],
      "text/plain": [
       "              business_id                 date  rating                 user_id\n",
       "0  ujmEBvifdJM6h6RLv4wQIg  2013-05-07 04:34:36     1.0  hG7b0MtEbXx5QzbzE6C_VA\n",
       "1  NZnhc2sEQy3RmzKTZnqtwQ  2017-01-14 21:30:33     5.0  yXQM5uF2jS6es16SJzNHfg"
      ]
     },
     "metadata": {},
     "output_type": "display_data"
    },
    {
     "data": {
      "text/html": [
       "<div>\n",
       "<style scoped>\n",
       "    .dataframe tbody tr th:only-of-type {\n",
       "        vertical-align: middle;\n",
       "    }\n",
       "\n",
       "    .dataframe tbody tr th {\n",
       "        vertical-align: top;\n",
       "    }\n",
       "\n",
       "    .dataframe thead th {\n",
       "        text-align: right;\n",
       "    }\n",
       "</style>\n",
       "<table border=\"1\" class=\"dataframe\">\n",
       "  <thead>\n",
       "    <tr style=\"text-align: right;\">\n",
       "      <th></th>\n",
       "      <th>address</th>\n",
       "      <th>business_id</th>\n",
       "      <th>city</th>\n",
       "      <th>is_open</th>\n",
       "      <th>latitude</th>\n",
       "      <th>longitude</th>\n",
       "      <th>name</th>\n",
       "      <th>postal_code</th>\n",
       "      <th>review_count</th>\n",
       "      <th>stars</th>\n",
       "      <th>state</th>\n",
       "    </tr>\n",
       "  </thead>\n",
       "  <tbody>\n",
       "    <tr>\n",
       "      <th>0</th>\n",
       "      <td>2818 E Camino Acequia Drive</td>\n",
       "      <td>1SWheh84yJXfytovILXOAQ</td>\n",
       "      <td>Phoenix</td>\n",
       "      <td>0</td>\n",
       "      <td>33.522143</td>\n",
       "      <td>-112.018481</td>\n",
       "      <td>Arizona Biltmore Golf Club</td>\n",
       "      <td>85016</td>\n",
       "      <td>5</td>\n",
       "      <td>3.0</td>\n",
       "      <td>AZ</td>\n",
       "    </tr>\n",
       "    <tr>\n",
       "      <th>1</th>\n",
       "      <td>30 Eglinton Avenue W</td>\n",
       "      <td>QXAEGFB4oINsVuTFxEYKFQ</td>\n",
       "      <td>Mississauga</td>\n",
       "      <td>1</td>\n",
       "      <td>43.605499</td>\n",
       "      <td>-79.652289</td>\n",
       "      <td>Emerald Chinese Restaurant</td>\n",
       "      <td>L5R 3E7</td>\n",
       "      <td>128</td>\n",
       "      <td>2.5</td>\n",
       "      <td>ON</td>\n",
       "    </tr>\n",
       "  </tbody>\n",
       "</table>\n",
       "</div>"
      ],
      "text/plain": [
       "                       address             business_id         city  is_open  \\\n",
       "0  2818 E Camino Acequia Drive  1SWheh84yJXfytovILXOAQ      Phoenix        0   \n",
       "1         30 Eglinton Avenue W  QXAEGFB4oINsVuTFxEYKFQ  Mississauga        1   \n",
       "\n",
       "    latitude   longitude                        name postal_code  \\\n",
       "0  33.522143 -112.018481  Arizona Biltmore Golf Club       85016   \n",
       "1  43.605499  -79.652289  Emerald Chinese Restaurant     L5R 3E7   \n",
       "\n",
       "   review_count  stars state  \n",
       "0             5    3.0    AZ  \n",
       "1           128    2.5    ON  "
      ]
     },
     "metadata": {},
     "output_type": "display_data"
    },
    {
     "data": {
      "text/html": [
       "<div>\n",
       "<style scoped>\n",
       "    .dataframe tbody tr th:only-of-type {\n",
       "        vertical-align: middle;\n",
       "    }\n",
       "\n",
       "    .dataframe tbody tr th {\n",
       "        vertical-align: top;\n",
       "    }\n",
       "\n",
       "    .dataframe thead th {\n",
       "        text-align: right;\n",
       "    }\n",
       "</style>\n",
       "<table border=\"1\" class=\"dataframe\">\n",
       "  <thead>\n",
       "    <tr style=\"text-align: right;\">\n",
       "      <th></th>\n",
       "      <th>average_stars</th>\n",
       "      <th>compliment_cool</th>\n",
       "      <th>compliment_cute</th>\n",
       "      <th>compliment_funny</th>\n",
       "      <th>compliment_hot</th>\n",
       "      <th>compliment_list</th>\n",
       "      <th>compliment_more</th>\n",
       "      <th>compliment_note</th>\n",
       "      <th>compliment_photos</th>\n",
       "      <th>compliment_plain</th>\n",
       "      <th>...</th>\n",
       "      <th>compliment_writer</th>\n",
       "      <th>cool</th>\n",
       "      <th>elite</th>\n",
       "      <th>fans</th>\n",
       "      <th>funny</th>\n",
       "      <th>name</th>\n",
       "      <th>review_count</th>\n",
       "      <th>useful</th>\n",
       "      <th>user_id</th>\n",
       "      <th>yelping_since</th>\n",
       "    </tr>\n",
       "  </thead>\n",
       "  <tbody>\n",
       "    <tr>\n",
       "      <th>0</th>\n",
       "      <td>4.03</td>\n",
       "      <td>1</td>\n",
       "      <td>0</td>\n",
       "      <td>1</td>\n",
       "      <td>2</td>\n",
       "      <td>0</td>\n",
       "      <td>0</td>\n",
       "      <td>1</td>\n",
       "      <td>0</td>\n",
       "      <td>1</td>\n",
       "      <td>...</td>\n",
       "      <td>2</td>\n",
       "      <td>25</td>\n",
       "      <td>2015,2016,2017</td>\n",
       "      <td>5</td>\n",
       "      <td>17</td>\n",
       "      <td>Rashmi</td>\n",
       "      <td>95</td>\n",
       "      <td>84</td>\n",
       "      <td>l6BmjZMeQD3rDxWUbiAiow</td>\n",
       "      <td>2013-10-08 23:11:33</td>\n",
       "    </tr>\n",
       "    <tr>\n",
       "      <th>1</th>\n",
       "      <td>3.63</td>\n",
       "      <td>1</td>\n",
       "      <td>0</td>\n",
       "      <td>1</td>\n",
       "      <td>1</td>\n",
       "      <td>0</td>\n",
       "      <td>0</td>\n",
       "      <td>0</td>\n",
       "      <td>0</td>\n",
       "      <td>0</td>\n",
       "      <td>...</td>\n",
       "      <td>0</td>\n",
       "      <td>16</td>\n",
       "      <td></td>\n",
       "      <td>4</td>\n",
       "      <td>22</td>\n",
       "      <td>Jenna</td>\n",
       "      <td>33</td>\n",
       "      <td>48</td>\n",
       "      <td>4XChL029mKr5hydo79Ljxg</td>\n",
       "      <td>2013-02-21 22:29:06</td>\n",
       "    </tr>\n",
       "  </tbody>\n",
       "</table>\n",
       "<p>2 rows × 21 columns</p>\n",
       "</div>"
      ],
      "text/plain": [
       "   average_stars  compliment_cool  compliment_cute  compliment_funny  \\\n",
       "0           4.03                1                0                 1   \n",
       "1           3.63                1                0                 1   \n",
       "\n",
       "   compliment_hot  compliment_list  compliment_more  compliment_note  \\\n",
       "0               2                0                0                1   \n",
       "1               1                0                0                0   \n",
       "\n",
       "   compliment_photos  compliment_plain         ...           \\\n",
       "0                  0                 1         ...            \n",
       "1                  0                 0         ...            \n",
       "\n",
       "   compliment_writer  cool           elite fans  funny    name review_count  \\\n",
       "0                  2    25  2015,2016,2017    5     17  Rashmi           95   \n",
       "1                  0    16                    4     22   Jenna           33   \n",
       "\n",
       "   useful                 user_id        yelping_since  \n",
       "0      84  l6BmjZMeQD3rDxWUbiAiow  2013-10-08 23:11:33  \n",
       "1      48  4XChL029mKr5hydo79Ljxg  2013-02-21 22:29:06  \n",
       "\n",
       "[2 rows x 21 columns]"
      ]
     },
     "metadata": {},
     "output_type": "display_data"
    },
    {
     "data": {
      "text/html": [
       "<div>\n",
       "<style scoped>\n",
       "    .dataframe tbody tr th:only-of-type {\n",
       "        vertical-align: middle;\n",
       "    }\n",
       "\n",
       "    .dataframe tbody tr th {\n",
       "        vertical-align: top;\n",
       "    }\n",
       "\n",
       "    .dataframe thead th {\n",
       "        text-align: right;\n",
       "    }\n",
       "</style>\n",
       "<table border=\"1\" class=\"dataframe\">\n",
       "  <thead>\n",
       "    <tr style=\"text-align: right;\">\n",
       "      <th></th>\n",
       "      <th>business_id</th>\n",
       "      <th>compliment_count</th>\n",
       "      <th>date</th>\n",
       "      <th>text</th>\n",
       "      <th>user_id</th>\n",
       "    </tr>\n",
       "  </thead>\n",
       "  <tbody>\n",
       "    <tr>\n",
       "      <th>0</th>\n",
       "      <td>VaKXUpmWTTWDKbpJ3aQdMw</td>\n",
       "      <td>0</td>\n",
       "      <td>2014-03-27 03:51:24</td>\n",
       "      <td>Great for watching games, ufc, and whatever el...</td>\n",
       "      <td>UPw5DWs_b-e2JRBS-t37Ag</td>\n",
       "    </tr>\n",
       "    <tr>\n",
       "      <th>1</th>\n",
       "      <td>OPiPeoJiv92rENwbq76orA</td>\n",
       "      <td>0</td>\n",
       "      <td>2013-05-25 06:00:56</td>\n",
       "      <td>Happy Hour 2-4 daily with 1/2 price drinks and...</td>\n",
       "      <td>Ocha4kZBHb4JK0lOWvE0sg</td>\n",
       "    </tr>\n",
       "  </tbody>\n",
       "</table>\n",
       "</div>"
      ],
      "text/plain": [
       "              business_id  compliment_count                 date  \\\n",
       "0  VaKXUpmWTTWDKbpJ3aQdMw                 0  2014-03-27 03:51:24   \n",
       "1  OPiPeoJiv92rENwbq76orA                 0  2013-05-25 06:00:56   \n",
       "\n",
       "                                                text                 user_id  \n",
       "0  Great for watching games, ufc, and whatever el...  UPw5DWs_b-e2JRBS-t37Ag  \n",
       "1  Happy Hour 2-4 daily with 1/2 price drinks and...  Ocha4kZBHb4JK0lOWvE0sg  "
      ]
     },
     "metadata": {},
     "output_type": "display_data"
    }
   ],
   "source": [
    "display(ratings.head(2))\n",
    "display(business.head(2))\n",
    "display(user.head(2))\n",
    "display(tip.head(2))"
   ]
  },
  {
   "cell_type": "code",
   "execution_count": 8,
   "metadata": {},
   "outputs": [
    {
     "data": {
      "text/html": [
       "<div>\n",
       "<style scoped>\n",
       "    .dataframe tbody tr th:only-of-type {\n",
       "        vertical-align: middle;\n",
       "    }\n",
       "\n",
       "    .dataframe tbody tr th {\n",
       "        vertical-align: top;\n",
       "    }\n",
       "\n",
       "    .dataframe thead th {\n",
       "        text-align: right;\n",
       "    }\n",
       "</style>\n",
       "<table border=\"1\" class=\"dataframe\">\n",
       "  <thead>\n",
       "    <tr style=\"text-align: right;\">\n",
       "      <th></th>\n",
       "      <th>business_id</th>\n",
       "      <th>date</th>\n",
       "      <th>rating</th>\n",
       "      <th>user_id</th>\n",
       "      <th>address</th>\n",
       "      <th>city</th>\n",
       "      <th>is_open</th>\n",
       "      <th>latitude</th>\n",
       "      <th>longitude</th>\n",
       "      <th>name_x</th>\n",
       "      <th>...</th>\n",
       "      <th>cool</th>\n",
       "      <th>elite</th>\n",
       "      <th>fans</th>\n",
       "      <th>funny</th>\n",
       "      <th>name_y</th>\n",
       "      <th>review_count_y</th>\n",
       "      <th>useful</th>\n",
       "      <th>yelping_since</th>\n",
       "      <th>compliment_count</th>\n",
       "      <th>text</th>\n",
       "    </tr>\n",
       "  </thead>\n",
       "  <tbody>\n",
       "    <tr>\n",
       "      <th>0</th>\n",
       "      <td>ujmEBvifdJM6h6RLv4wQIg</td>\n",
       "      <td>2013-05-07 04:34:36</td>\n",
       "      <td>1.0</td>\n",
       "      <td>hG7b0MtEbXx5QzbzE6C_VA</td>\n",
       "      <td>3100 N Tenaya Way</td>\n",
       "      <td>Las Vegas</td>\n",
       "      <td>1</td>\n",
       "      <td>36.215546</td>\n",
       "      <td>-115.248798</td>\n",
       "      <td>MountainView Hospital</td>\n",
       "      <td>...</td>\n",
       "      <td>0</td>\n",
       "      <td></td>\n",
       "      <td>0</td>\n",
       "      <td>4</td>\n",
       "      <td>Stefan</td>\n",
       "      <td>10</td>\n",
       "      <td>18</td>\n",
       "      <td>2008-07-10 17:24:47</td>\n",
       "      <td>NaN</td>\n",
       "      <td>NaN</td>\n",
       "    </tr>\n",
       "    <tr>\n",
       "      <th>1</th>\n",
       "      <td>NZnhc2sEQy3RmzKTZnqtwQ</td>\n",
       "      <td>2017-01-14 21:30:33</td>\n",
       "      <td>5.0</td>\n",
       "      <td>yXQM5uF2jS6es16SJzNHfg</td>\n",
       "      <td>4455 Paradise Rd</td>\n",
       "      <td>Las Vegas</td>\n",
       "      <td>1</td>\n",
       "      <td>36.110083</td>\n",
       "      <td>-115.153871</td>\n",
       "      <td>Kelly Cardenas Salon - Hard Rock Hotel &amp; Casino</td>\n",
       "      <td>...</td>\n",
       "      <td>67</td>\n",
       "      <td>2009</td>\n",
       "      <td>3</td>\n",
       "      <td>36</td>\n",
       "      <td>Jackie</td>\n",
       "      <td>68</td>\n",
       "      <td>178</td>\n",
       "      <td>2008-08-26 20:56:20</td>\n",
       "      <td>NaN</td>\n",
       "      <td>NaN</td>\n",
       "    </tr>\n",
       "    <tr>\n",
       "      <th>2</th>\n",
       "      <td>WTqjgwHlXbSFevF32_DJVw</td>\n",
       "      <td>2016-11-09 20:09:03</td>\n",
       "      <td>5.0</td>\n",
       "      <td>n6-Gk65cPZL6Uz8qRm3NYw</td>\n",
       "      <td>3230 S Gilbert Rd, Ste 4</td>\n",
       "      <td>Chandler</td>\n",
       "      <td>1</td>\n",
       "      <td>33.259702</td>\n",
       "      <td>-111.790203</td>\n",
       "      <td>J. Philipp Centers for Family and Cosmetic Den...</td>\n",
       "      <td>...</td>\n",
       "      <td>1</td>\n",
       "      <td></td>\n",
       "      <td>1</td>\n",
       "      <td>1</td>\n",
       "      <td>Wilhelmina</td>\n",
       "      <td>10</td>\n",
       "      <td>13</td>\n",
       "      <td>2012-10-30 00:56:00</td>\n",
       "      <td>NaN</td>\n",
       "      <td>NaN</td>\n",
       "    </tr>\n",
       "    <tr>\n",
       "      <th>3</th>\n",
       "      <td>ikCg8xy5JIg_NGPx-MSIDA</td>\n",
       "      <td>2018-01-09 20:56:38</td>\n",
       "      <td>5.0</td>\n",
       "      <td>dacAIZ6fTM6mqwW5uxkskg</td>\n",
       "      <td>180 94 Ave SE</td>\n",
       "      <td>Calgary</td>\n",
       "      <td>1</td>\n",
       "      <td>50.969721</td>\n",
       "      <td>-114.070115</td>\n",
       "      <td>Regal Beagle Pub</td>\n",
       "      <td>...</td>\n",
       "      <td>0</td>\n",
       "      <td></td>\n",
       "      <td>0</td>\n",
       "      <td>1</td>\n",
       "      <td>Simon</td>\n",
       "      <td>4</td>\n",
       "      <td>2</td>\n",
       "      <td>2016-09-26 21:56:30</td>\n",
       "      <td>NaN</td>\n",
       "      <td>NaN</td>\n",
       "    </tr>\n",
       "    <tr>\n",
       "      <th>4</th>\n",
       "      <td>b1b1eb3uo-w561D0ZfCEiQ</td>\n",
       "      <td>2018-01-30 23:07:38</td>\n",
       "      <td>1.0</td>\n",
       "      <td>ssoyf2_x0EQMed6fgHeMyQ</td>\n",
       "      <td>4160 N Craftsman Ct, Ste 202</td>\n",
       "      <td>Scottsdale</td>\n",
       "      <td>1</td>\n",
       "      <td>33.496713</td>\n",
       "      <td>-111.927958</td>\n",
       "      <td>White Teeth AZ</td>\n",
       "      <td>...</td>\n",
       "      <td>0</td>\n",
       "      <td></td>\n",
       "      <td>0</td>\n",
       "      <td>0</td>\n",
       "      <td>Reilly</td>\n",
       "      <td>2</td>\n",
       "      <td>7</td>\n",
       "      <td>2016-12-06 22:12:48</td>\n",
       "      <td>NaN</td>\n",
       "      <td>NaN</td>\n",
       "    </tr>\n",
       "  </tbody>\n",
       "</table>\n",
       "<p>5 rows × 36 columns</p>\n",
       "</div>"
      ],
      "text/plain": [
       "              business_id                 date  rating  \\\n",
       "0  ujmEBvifdJM6h6RLv4wQIg  2013-05-07 04:34:36     1.0   \n",
       "1  NZnhc2sEQy3RmzKTZnqtwQ  2017-01-14 21:30:33     5.0   \n",
       "2  WTqjgwHlXbSFevF32_DJVw  2016-11-09 20:09:03     5.0   \n",
       "3  ikCg8xy5JIg_NGPx-MSIDA  2018-01-09 20:56:38     5.0   \n",
       "4  b1b1eb3uo-w561D0ZfCEiQ  2018-01-30 23:07:38     1.0   \n",
       "\n",
       "                  user_id                       address        city  is_open  \\\n",
       "0  hG7b0MtEbXx5QzbzE6C_VA             3100 N Tenaya Way   Las Vegas        1   \n",
       "1  yXQM5uF2jS6es16SJzNHfg              4455 Paradise Rd   Las Vegas        1   \n",
       "2  n6-Gk65cPZL6Uz8qRm3NYw      3230 S Gilbert Rd, Ste 4    Chandler        1   \n",
       "3  dacAIZ6fTM6mqwW5uxkskg                 180 94 Ave SE     Calgary        1   \n",
       "4  ssoyf2_x0EQMed6fgHeMyQ  4160 N Craftsman Ct, Ste 202  Scottsdale        1   \n",
       "\n",
       "    latitude   longitude                                             name_x  \\\n",
       "0  36.215546 -115.248798                              MountainView Hospital   \n",
       "1  36.110083 -115.153871    Kelly Cardenas Salon - Hard Rock Hotel & Casino   \n",
       "2  33.259702 -111.790203  J. Philipp Centers for Family and Cosmetic Den...   \n",
       "3  50.969721 -114.070115                                   Regal Beagle Pub   \n",
       "4  33.496713 -111.927958                                     White Teeth AZ   \n",
       "\n",
       "   ...  cool  elite  fans funny      name_y  review_count_y  useful  \\\n",
       "0  ...     0            0     4      Stefan              10      18   \n",
       "1  ...    67   2009     3    36      Jackie              68     178   \n",
       "2  ...     1            1     1  Wilhelmina              10      13   \n",
       "3  ...     0            0     1       Simon               4       2   \n",
       "4  ...     0            0     0      Reilly               2       7   \n",
       "\n",
       "         yelping_since  compliment_count  text  \n",
       "0  2008-07-10 17:24:47               NaN   NaN  \n",
       "1  2008-08-26 20:56:20               NaN   NaN  \n",
       "2  2012-10-30 00:56:00               NaN   NaN  \n",
       "3  2016-09-26 21:56:30               NaN   NaN  \n",
       "4  2016-12-06 22:12:48               NaN   NaN  \n",
       "\n",
       "[5 rows x 36 columns]"
      ]
     },
     "execution_count": 8,
     "metadata": {},
     "output_type": "execute_result"
    }
   ],
   "source": [
    "temp = pd.merge(ratings,business,on='business_id', how='left')\n",
    "temp = pd.merge(temp,user,on='user_id', how='left')\n",
    "temp = pd.merge(temp,tip, on=['business_id','user_id','date'],how='left')\n",
    "temp.head()"
   ]
  },
  {
   "cell_type": "code",
   "execution_count": 21,
   "metadata": {},
   "outputs": [
    {
     "name": "stdout",
     "output_type": "stream",
     "text": [
      "<class 'pandas.core.frame.DataFrame'>\n",
      "Int64Index: 6685900 entries, 0 to 6685899\n",
      "Data columns (total 36 columns):\n",
      "business_id           object\n",
      "date                  object\n",
      "rating                float64\n",
      "user_id               object\n",
      "address               object\n",
      "city                  object\n",
      "is_open               int64\n",
      "latitude              float64\n",
      "longitude             float64\n",
      "name_x                object\n",
      "postal_code           object\n",
      "review_count_x        int64\n",
      "stars                 float64\n",
      "state                 object\n",
      "average_stars         float64\n",
      "compliment_cool       int64\n",
      "compliment_cute       int64\n",
      "compliment_funny      int64\n",
      "compliment_hot        int64\n",
      "compliment_list       int64\n",
      "compliment_more       int64\n",
      "compliment_note       int64\n",
      "compliment_photos     int64\n",
      "compliment_plain      int64\n",
      "compliment_profile    int64\n",
      "compliment_writer     int64\n",
      "cool                  int64\n",
      "elite                 object\n",
      "fans                  int64\n",
      "funny                 int64\n",
      "name_y                object\n",
      "review_count_y        int64\n",
      "useful                int64\n",
      "yelping_since         object\n",
      "compliment_count      float64\n",
      "text                  object\n",
      "dtypes: float64(6), int64(18), object(12)\n",
      "memory usage: 1.8+ GB\n"
     ]
    }
   ],
   "source": [
    "temp.info()"
   ]
  },
  {
   "cell_type": "code",
   "execution_count": null,
   "metadata": {},
   "outputs": [],
   "source": [
    "# Hackerman\n",
    "#temp[temp['name_y']=='Anirudh']\n",
    "temp.info()\n",
    "temp.to_csv('../data/all_data.csv', index=False)"
   ]
  },
  {
   "cell_type": "code",
   "execution_count": 19,
   "metadata": {},
   "outputs": [
    {
     "data": {
      "image/png": "[encoded data removed]",
      "text/plain": [
       "<Figure size 1080x360 with 1 Axes>"
      ]
     },
     "metadata": {
      "needs_background": "light"
     },
     "output_type": "display_data"
    }
   ],
   "source": [
    "import matplotlib.pyplot as plt\n",
    "#%matplotlib inline\n",
    "t_city = temp.groupby('city').is_open.count().sort_values(ascending=False).reset_index()\n",
    "\n",
    "#t_city.iloc[:10]\n",
    "plt.figure(figsize=(15,5))\n",
    "plt.bar(t_city.iloc[:10]['city'],t_city.iloc[:10]['is_open'])\n",
    "plt.title('Cities vs count of business')\n",
    "plt.xlabel('City')\n",
    "plt.ylabel('Number of Business')\n",
    "plt.show()"
   ]
  },
  {
   "cell_type": "code",
   "execution_count": 27,
   "metadata": {},
   "outputs": [
    {
     "data": {
      "image/png": "[encoded data removed]",
      "text/plain": [
       "<Figure size 1080x360 with 1 Axes>"
      ]
     },
     "metadata": {
      "needs_background": "light"
     },
     "output_type": "display_data"
    }
   ],
   "source": [
    "t_state = temp.groupby('state').is_open.count().sort_values(ascending=False).reset_index()\n",
    "\n",
    "#t_city.iloc[:10]\n",
    "plt.figure(figsize=(15,5))\n",
    "plt.bar(t_state.iloc[:10]['state'],t_state.iloc[:10]['is_open'])\n",
    "plt.title('States vs count of business')\n",
    "plt.show()"
   ]
  },
  {
   "cell_type": "code",
   "execution_count": 26,
   "metadata": {},
   "outputs": [
    {
     "data": {
      "image/png": "[encoded data removed]",
      "text/plain": [
       "<Figure size 1080x360 with 1 Axes>"
      ]
     },
     "metadata": {
      "needs_background": "light"
     },
     "output_type": "display_data"
    }
   ],
   "source": [
    "t_rating = temp.groupby('rating').is_open.count().sort_values(ascending=False).reset_index()\n",
    "\n",
    "#t_city.iloc[:10]\n",
    "plt.figure(figsize=(15,5))\n",
    "plt.bar(t_rating['rating'],t_rating['is_open'])\n",
    "plt.title('Rating vs count of business')\n",
    "plt.show()"
   ]
  },
  {
   "cell_type": "code",
   "execution_count": 36,
   "metadata": {},
   "outputs": [
    {
     "data": {
      "image/png": "[encoded data removed]",
      "text/plain": [
       "<Figure size 432x288 with 1 Axes>"
      ]
     },
     "metadata": {
      "needs_background": "light"
     },
     "output_type": "display_data"
    }
   ],
   "source": [
    "plt.hist(temp.fans[temp.fans<=10])\n",
    "plt.title('Histogram of fans')\n",
    "plt.xlabel('Number of fans')\n",
    "plt.ylabel('Count')\n",
    "plt.show()"
   ]
  },
  {
   "cell_type": "code",
   "execution_count": 41,
   "metadata": {},
   "outputs": [
    {
     "data": {
      "image/png": "[encoded data removed]",
      "text/plain": [
       "<Figure size 432x288 with 1 Axes>"
      ]
     },
     "metadata": {
      "needs_background": "light"
     },
     "output_type": "display_data"
    }
   ],
   "source": [
    "plt.hist(temp['is_open'])\n",
    "plt.show()"
   ]
  },
  {
   "cell_type": "code",
   "execution_count": 48,
   "metadata": {},
   "outputs": [
    {
     "data": {
      "image/png": "[encoded data removed]",
      "text/plain": [
       "<Figure size 432x288 with 1 Axes>"
      ]
     },
     "metadata": {
      "needs_background": "light"
     },
     "output_type": "display_data"
    }
   ],
   "source": [
    "plt.hist(temp['cool'][temp['cool']<50])\n",
    "plt.show()"
   ]
  },
  {
   "cell_type": "code",
   "execution_count": 54,
   "metadata": {},
   "outputs": [
    {
     "name": "stdout",
     "output_type": "stream",
     "text": [
      "business_id           ujmEBvifdJM6h6RLv4wQIg\n",
      "date                     2013-05-07 04:34:36\n",
      "rating                                     1\n",
      "user_id               hG7b0MtEbXx5QzbzE6C_VA\n",
      "address                    3100 N Tenaya Way\n",
      "city                               Las Vegas\n",
      "is_open                                    1\n",
      "latitude                             36.2155\n",
      "longitude                           -115.249\n",
      "name_x                 MountainView Hospital\n",
      "postal_code                            89128\n",
      "review_count_x                           238\n",
      "stars                                    2.5\n",
      "state                                     NV\n",
      "average_stars                              2\n",
      "compliment_cool                            0\n",
      "compliment_cute                            0\n",
      "compliment_funny                           0\n",
      "compliment_hot                             0\n",
      "compliment_list                            0\n",
      "compliment_more                            0\n",
      "compliment_note                            0\n",
      "compliment_photos                          0\n",
      "compliment_plain                           0\n",
      "compliment_profile                         0\n",
      "compliment_writer                          0\n",
      "cool                                       0\n",
      "elite                                       \n",
      "fans                                       0\n",
      "funny                                      4\n",
      "name_y                                Stefan\n",
      "review_count_y                            10\n",
      "useful                                    18\n",
      "yelping_since            2008-07-10 17:24:47\n",
      "compliment_count                         NaN\n",
      "text                                     NaN\n",
      "Name: 0, dtype: object\n"
     ]
    }
   ],
   "source": [
    "print(temp.iloc[0])"
   ]
  },
  {
   "cell_type": "code",
   "execution_count": 55,
   "metadata": {},
   "outputs": [
    {
     "data": {
      "image/png": "[encoded data removed]",
      "text/plain": [
       "<Figure size 432x288 with 1 Axes>"
      ]
     },
     "metadata": {
      "needs_background": "light"
     },
     "output_type": "display_data"
    }
   ],
   "source": [
    "plt.hist(temp.stars)\n",
    "plt.show()"
   ]
  },
  {
   "cell_type": "code",
   "execution_count": 59,
   "metadata": {},
   "outputs": [
    {
     "data": {
      "image/png": "[encoded data removed]",
      "text/plain": [
       "<Figure size 432x288 with 1 Axes>"
      ]
     },
     "metadata": {
      "needs_background": "light"
     },
     "output_type": "display_data"
    }
   ],
   "source": [
    "plt.hist(temp.review_count_x[temp.review_count_x<1000])\n",
    "plt.show()"
   ]
  },
  {
   "cell_type": "code",
   "execution_count": null,
   "metadata": {},
   "outputs": [],
   "source": [
    "numerics = ['int16', 'int32', 'int64', 'float16', 'float32', 'float64']\n",
    "num_temp = temp.select_dtypes(include=numerics)\n",
    "num_temp.head()"
   ]
  },
  {
   "cell_type": "code",
   "execution_count": null,
   "metadata": {},
   "outputs": [],
   "source": []
  }
 ],
 "metadata": {
  "kernelspec": {
   "display_name": "Python 2",
   "language": "python",
   "name": "python2"
  },
  "language_info": {
   "codemirror_mode": {
    "name": "ipython",
    "version": 2
   },
   "file_extension": ".py",
   "mimetype": "text/x-python",
   "name": "python",
   "nbconvert_exporter": "python",
   "pygments_lexer": "ipython2",
   "version": "2.7.17"
  }
 },
 "nbformat": 4,
 "nbformat_minor": 2
}
